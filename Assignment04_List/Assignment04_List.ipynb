{
 "cells": [
  {
   "cell_type": "markdown",
   "id": "183f22fa-0172-48fe-90f6-a72e94e9e550",
   "metadata": {},
   "source": [
    "<h2 style=\"color:blue;\">Name: Sohail Aslam Bhatti</h2>\n",
    "<h2 style=\"color:blue;\">Roll No. 465885</h2>\n",
    "<h2 style=\"color:blue;\">Assignment_04: List</h2>"
   ]
  },
  {
   "cell_type": "markdown",
   "id": "151e0b5f-cc33-4bf3-b600-2edb83ab177f",
   "metadata": {},
   "source": [
    "<h4 style=\"color:green;\">Q1. Write a program in Python that accepts a list from user and print the alternate element of list."
   ]
  },
  {
   "cell_type": "code",
   "execution_count": 2,
   "id": "d7313e7e-02f6-4d9d-8ad9-644017f557a1",
   "metadata": {},
   "outputs": [
    {
     "name": "stdin",
     "output_type": "stream",
     "text": [
      "Enter elements of list separated by the single space:  5 10 15 20 25 30\n"
     ]
    },
    {
     "name": "stdout",
     "output_type": "stream",
     "text": [
      "Original List: ['5', '10', '15', '20', '25', '30']\n",
      "Alternate Elements of list:\n",
      "5\n",
      "15\n",
      "25\n"
     ]
    }
   ],
   "source": [
    "usr_input = input(\"Enter elements of list separated by the single space: \")\n",
    "\n",
    "mylst = usr_input.split()\n",
    "\n",
    "print(\"Original List:\", mylst)\n",
    "\n",
    "print(\"Alternate Elements of list:\")\n",
    "for i in range(0, len(mylst), 2):\n",
    "    print(mylst[i])\n"
   ]
  },
  {
   "cell_type": "markdown",
   "id": "f1709432-1653-4e11-8cec-07b36ca95f6d",
   "metadata": {},
   "source": [
    "<h4 style=\"color:green;\">Q2.  Write a program that accepts a list from user. Your program should reverse the content of list and display it. Do not use reverse() method."
   ]
  },
  {
   "cell_type": "code",
   "execution_count": 5,
   "id": "73e666b9-a02e-4f4a-88c5-2f17cbe50cf9",
   "metadata": {},
   "outputs": [
    {
     "name": "stdin",
     "output_type": "stream",
     "text": [
      "Enter elements of list separated by the single space:  5 10 15 20 25 30\n"
     ]
    },
    {
     "name": "stdout",
     "output_type": "stream",
     "text": [
      "Original List: ['5', '10', '15', '20', '25', '30']\n",
      "Reversed List: ['30', '25', '20', '15', '10', '5']\n"
     ]
    }
   ],
   "source": [
    "usr_input = input(\"Enter elements of list separated by the single space: \")\n",
    "\n",
    "mylst = usr_input.split()\n",
    "\n",
    "reversed_lst = mylst[::-1]\n",
    "\n",
    "print(\"Original List:\", mylst)\n",
    "print(\"Reversed List:\", reversed_lst)\n"
   ]
  },
  {
   "cell_type": "markdown",
   "id": "1e99558b-5fed-475c-9b4f-1b3d64a946cb",
   "metadata": {},
   "source": [
    "<h4 style=\"color:green;\">Q3. Find and display the largest number of a list without using built-in function max(). Your program should ask the user to input values in list from keyboard."
   ]
  },
  {
   "cell_type": "code",
   "execution_count": 7,
   "id": "7cbb224b-fd11-412f-b675-8b632dc37ad5",
   "metadata": {},
   "outputs": [
    {
     "name": "stdin",
     "output_type": "stream",
     "text": [
      "Enter elements of list separated by the single space:  9 27 15 38 53 41\n"
     ]
    },
    {
     "name": "stdout",
     "output_type": "stream",
     "text": [
      "Original List: [9, 27, 15, 38, 53, 41]\n",
      "Largest number in the list is: 53\n"
     ]
    }
   ],
   "source": [
    "usr_input = input(\"Enter elements of list separated by the single space: \")\n",
    "\n",
    "mylst = list(map(int, usr_input.split()))\n",
    "\n",
    "largest = mylst[0]\n",
    "\n",
    "for num in mylst:\n",
    "    if num > largest:\n",
    "        largest = num\n",
    "\n",
    "print(\"Original List:\", mylst)\n",
    "print(\"Largest number in the list is:\", largest)\n"
   ]
  },
  {
   "cell_type": "markdown",
   "id": "05827802-12cd-4de1-9644-aa30c3aa79e2",
   "metadata": {},
   "source": [
    "<h4 style=\"color:green;\">Q4. Write a program that rotates the element of a list so that the element at the first index moves to the second index, the element in the second index to the third index, etc., and the element in the last index moves to the first index."
   ]
  },
  {
   "cell_type": "code",
   "execution_count": 8,
   "id": "b044ea3d-0b03-4a13-a97b-9e9a89b511ab",
   "metadata": {},
   "outputs": [
    {
     "name": "stdin",
     "output_type": "stream",
     "text": [
      "Enter elements of list separated by the single space:  5 10 15 20 25 30\n"
     ]
    },
    {
     "name": "stdout",
     "output_type": "stream",
     "text": [
      "Original List: ['5', '10', '15', '20', '25', '30']\n",
      "Rotated List: ['30', '5', '10', '15', '20', '25']\n"
     ]
    }
   ],
   "source": [
    "usr_input = input(\"Enter elements of list separated by the single space: \")\n",
    "\n",
    "mylst = usr_input.split()\n",
    "\n",
    "print(\"Original List:\", mylst)\n",
    "\n",
    "rotated_lst = [mylst[-1]] + mylst[:-1]\n",
    "\n",
    "print(\"Rotated List:\", rotated_lst)\n"
   ]
  },
  {
   "cell_type": "markdown",
   "id": "f034835b-8363-459a-ab75-3c7818cc3d8b",
   "metadata": {},
   "source": [
    "<h4 style=\"color:green;\">Q5. Write a program that input a string and ask user to delete a given word from a string."
   ]
  },
  {
   "cell_type": "code",
   "execution_count": 9,
   "id": "072beda1-197f-420b-8853-a53d2a68b4c5",
   "metadata": {},
   "outputs": [
    {
     "name": "stdin",
     "output_type": "stream",
     "text": [
      "Enter a string:  Welcome! to Python coders\n",
      "Enter the word you want to delete:  Python\n"
     ]
    },
    {
     "name": "stdout",
     "output_type": "stream",
     "text": [
      "Original String: Welcome! to Python coders\n",
      "Updated String: Welcome! to coders\n"
     ]
    }
   ],
   "source": [
    "text = input(\"Enter a string: \")\n",
    "\n",
    "word_to_delete = input(\"Enter the word you want to delete: \")\n",
    "\n",
    "words = text.split()\n",
    "\n",
    "new_words = [word for word in words if word != word_to_delete]\n",
    "\n",
    "new_text = \" \".join(new_words)\n",
    "\n",
    "print(\"Original String:\", text)\n",
    "print(\"Updated String:\", new_text)"
   ]
  },
  {
   "cell_type": "markdown",
   "id": "9512d104-6467-455a-9be4-e7b7e8545cdf",
   "metadata": {},
   "source": [
    "<h4 style=\"color:green;\">Q6. Write a program that reads a string from the user containing a date in the form mm/dd/yyyy. It should print the date in the form March 12, 2021."
   ]
  },
  {
   "cell_type": "code",
   "execution_count": 10,
   "id": "a0551ef7-c1fb-4d95-a3e1-23318f68d2e7",
   "metadata": {},
   "outputs": [
    {
     "name": "stdin",
     "output_type": "stream",
     "text": [
      "Enter date in the form (mm/dd/yyyy):  10/01/2025\n"
     ]
    },
    {
     "name": "stdout",
     "output_type": "stream",
     "text": [
      "Formatted Date: October 1, 2025\n"
     ]
    }
   ],
   "source": [
    "months = {\n",
    "    \"01\": \"January\", \"02\": \"February\", \"03\": \"March\",\n",
    "    \"04\": \"April\",   \"05\": \"May\",      \"06\": \"June\",\n",
    "    \"07\": \"July\",    \"08\": \"August\",   \"09\": \"September\",\n",
    "    \"10\": \"October\", \"11\": \"November\", \"12\": \"December\"\n",
    "}\n",
    "date_input = input(\"Enter date in the form (mm/dd/yyyy): \")\n",
    "\n",
    "mm, dd, yyyy = date_input.split(\"/\")\n",
    "\n",
    "if mm in months:\n",
    "    print(f\"Formatted Date: {months[mm]} {int(dd)}, {yyyy}\")\n",
    "else:\n",
    "    print(\"Invalid month entered!\")\n"
   ]
  },
  {
   "cell_type": "markdown",
   "id": "9f96e115-3c48-45e2-886a-ac49364aa64d",
   "metadata": {},
   "source": [
    "<h4 style=\"color:green;\">Q7. Write a program with a function that accepts a string from keyboard and create a new string after converting character of each word capitalized. For instance, if the sentence is \"stop and smell the roses.\" the output should be \"Stop And Smell The Roses\""
   ]
  },
  {
   "cell_type": "code",
   "execution_count": 12,
   "id": "0f122224-6e24-4258-b59a-1bc954b828f8",
   "metadata": {},
   "outputs": [
    {
     "name": "stdin",
     "output_type": "stream",
     "text": [
      "Enter a sentence:  stop and smell the roses\n"
     ]
    },
    {
     "name": "stdout",
     "output_type": "stream",
     "text": [
      "Converted String: Stop And Smell The Roses\n"
     ]
    }
   ],
   "source": [
    "def capitalize_words(sentence) -> str:\n",
    "    words = sentence.split()\n",
    "    new_words = [word.capitalize() for word in words]\n",
    "    return \" \".join(new_words) \n",
    "\n",
    "text = input(\"Enter a sentence: \")\n",
    "result = capitalize_words(text)\n",
    "print(\"Converted String:\", result)\n"
   ]
  },
  {
   "cell_type": "markdown",
   "id": "a4c6f7d3-52f2-4334-aba9-0852d2ff97ce",
   "metadata": {},
   "source": [
    "<h4 style=\"color:green;\">Q8. Find the sum of each row of matrix of size m x n. For example for the following matrix output will be like this: \n",
    "\n",
    ">   2 11 7 12 <br>\n",
    "    5 2 9 15 <br>\n",
    "    8 3 10 42 <br>\n",
    "\n",
    ">   Sum of row 1 = 32 <br>\n",
    "    Sum of row 2 = 31 <br>\n",
    "    Sum of row 3 = 63 "
   ]
  },
  {
   "cell_type": "code",
   "execution_count": 14,
   "id": "3a2cbc95-0a35-4dd7-b18b-e793a18949bf",
   "metadata": {},
   "outputs": [
    {
     "name": "stdin",
     "output_type": "stream",
     "text": [
      "Enter number of rows (m):  3\n",
      "Enter number of columns (n):  4\n"
     ]
    },
    {
     "name": "stdout",
     "output_type": "stream",
     "text": [
      "Enter the elements row by row:\n"
     ]
    },
    {
     "name": "stdin",
     "output_type": "stream",
     "text": [
      "Row 1:  2 11 7 12\n",
      "Row 2:  5 2 9 15\n",
      "Row 3:  8 3 10 42\n"
     ]
    },
    {
     "name": "stdout",
     "output_type": "stream",
     "text": [
      "\n",
      "Matrix:\n",
      "2 11 7 12\n",
      "5 2 9 15\n",
      "8 3 10 42\n",
      "\n",
      "Row sums:\n",
      "Sum of row 1 = 32\n",
      "Sum of row 2 = 31\n",
      "Sum of row 3 = 63\n"
     ]
    }
   ],
   "source": [
    "m = int(input(\"Enter number of rows (m): \"))\n",
    "n = int(input(\"Enter number of columns (n): \"))\n",
    "\n",
    "matrix = []\n",
    "print(\"Enter the elements row by row:\")\n",
    "\n",
    "for i in range(m):\n",
    "    row = list(map(int, input(f\"Row {i+1}: \").split()))\n",
    "    if len(row) != n:\n",
    "        print(\"Error: Row must have\", n, \"elements.\")\n",
    "        exit()\n",
    "    matrix.append(row)\n",
    "\n",
    "print(\"\\nMatrix:\")\n",
    "for row in matrix:\n",
    "    print(*row)\n",
    "\n",
    "print(\"\\nRow sums:\")\n",
    "for i in range(m):\n",
    "    row_sum = sum(matrix[i])\n",
    "    print(f\"Sum of row {i+1} = {row_sum}\")\n"
   ]
  },
  {
   "cell_type": "markdown",
   "id": "c689cc8c-e455-4dcd-bbfe-159a95eb0f82",
   "metadata": {},
   "source": [
    "<h4 style=\"color:green;\">Q9. Write a program to add two matrices of size n x m"
   ]
  },
  {
   "cell_type": "code",
   "execution_count": 15,
   "id": "52213441-9eda-48d0-950f-d38ca5c00a85",
   "metadata": {},
   "outputs": [
    {
     "name": "stdin",
     "output_type": "stream",
     "text": [
      "Enter number of rows (n):  4\n",
      "Enter number of columns (m):  4\n"
     ]
    },
    {
     "name": "stdout",
     "output_type": "stream",
     "text": [
      "\n",
      "Enter elements of first matrix:\n"
     ]
    },
    {
     "name": "stdin",
     "output_type": "stream",
     "text": [
      "Row 1:  1 2 3 4\n",
      "Row 2:  1 2 3 4\n",
      "Row 3:  1 2 3 4\n",
      "Row 4:  1 2 3 4\n"
     ]
    },
    {
     "name": "stdout",
     "output_type": "stream",
     "text": [
      "\n",
      "Enter elements of second matrix:\n"
     ]
    },
    {
     "name": "stdin",
     "output_type": "stream",
     "text": [
      "Row 1:  4 3 2 1\n",
      "Row 2:  4 3 2 1\n",
      "Row 3:  4 3 2 1\n",
      "Row 4:  4 3 2 1\n"
     ]
    },
    {
     "name": "stdout",
     "output_type": "stream",
     "text": [
      "\n",
      "First Matrix:\n",
      "1 2 3 4\n",
      "1 2 3 4\n",
      "1 2 3 4\n",
      "1 2 3 4\n",
      "\n",
      "Second Matrix:\n",
      "4 3 2 1\n",
      "4 3 2 1\n",
      "4 3 2 1\n",
      "4 3 2 1\n",
      "\n",
      "Resultant Matrix (Addition):\n",
      "5 5 5 5\n",
      "5 5 5 5\n",
      "5 5 5 5\n",
      "5 5 5 5\n"
     ]
    }
   ],
   "source": [
    "n = int(input(\"Enter number of rows (n): \"))\n",
    "m = int(input(\"Enter number of columns (m): \"))\n",
    "\n",
    "print(\"\\nEnter elements of first matrix:\")\n",
    "# matrix 1\n",
    "matrix1 = []\n",
    "for i in range(n):\n",
    "    row = list(map(int, input(f\"Row {i+1}: \").split()))\n",
    "    if len(row) != m:\n",
    "        print(\"Error: Row must have\", m, \"elements.\")\n",
    "        exit()\n",
    "    matrix1.append(row)\n",
    "\n",
    "# matrix 2\n",
    "print(\"\\nEnter elements of second matrix:\")\n",
    "matrix2 = []\n",
    "for i in range(n):\n",
    "    row = list(map(int, input(f\"Row {i+1}: \").split()))\n",
    "    if len(row) != m:\n",
    "        print(\"Error: Row must have\", m, \"elements.\")\n",
    "        exit()\n",
    "    matrix2.append(row)\n",
    "\n",
    "# Adding\n",
    "result = []\n",
    "for i in range(n):\n",
    "    row = []\n",
    "    for j in range(m):\n",
    "        row.append(matrix1[i][j] + matrix2[i][j])\n",
    "    result.append(row)\n",
    "\n",
    "# Display result\n",
    "print(\"\\nFirst Matrix:\")\n",
    "for row in matrix1:\n",
    "    print(*row)\n",
    "\n",
    "print(\"\\nSecond Matrix:\")\n",
    "for row in matrix2:\n",
    "    print(*row)\n",
    "\n",
    "print(\"\\nResultant Matrix (Addition):\")\n",
    "for row in result:\n",
    "    print(*row)"
   ]
  },
  {
   "cell_type": "markdown",
   "id": "833006b2-64da-45ca-bc61-0cbbb339dd46",
   "metadata": {},
   "source": [
    "<h4 style=\"color:green;\">Q10. Write a program to multiply two matrices"
   ]
  },
  {
   "cell_type": "code",
   "execution_count": 1,
   "id": "3b5c30c3-7da8-4f6b-8ae8-a7f0896b361c",
   "metadata": {},
   "outputs": [
    {
     "name": "stdin",
     "output_type": "stream",
     "text": [
      "Enter number of rows for first matrix:  2\n",
      "Enter number of columns for first matrix:  3\n",
      "Enter number of rows for second matrix:  3\n",
      "Enter number of columns for second matrix:  2\n"
     ]
    },
    {
     "name": "stdout",
     "output_type": "stream",
     "text": [
      "\n",
      "Enter elements of first matrix:\n"
     ]
    },
    {
     "name": "stdin",
     "output_type": "stream",
     "text": [
      "Row 1:  1 2 3\n",
      "Row 2:  4 5 6\n"
     ]
    },
    {
     "name": "stdout",
     "output_type": "stream",
     "text": [
      "\n",
      "Enter elements of second matrix:\n"
     ]
    },
    {
     "name": "stdin",
     "output_type": "stream",
     "text": [
      "Row 1:  7 8\n",
      "Row 2:  9 10\n",
      "Row 3:  11 12\n"
     ]
    },
    {
     "name": "stdout",
     "output_type": "stream",
     "text": [
      "\n",
      "First Matrix:\n",
      "1 2 3\n",
      "4 5 6\n",
      "\n",
      "Second Matrix:\n",
      "7 8\n",
      "9 10\n",
      "11 12\n",
      "\n",
      "Resultant Matrix (Multiplication):\n",
      "58 64\n",
      "139 154\n"
     ]
    }
   ],
   "source": [
    "n1 = int(input(\"Enter number of rows for first matrix: \"))\n",
    "m1 = int(input(\"Enter number of columns for first matrix: \"))\n",
    "\n",
    "n2 = int(input(\"Enter number of rows for second matrix: \"))\n",
    "m2 = int(input(\"Enter number of columns for second matrix: \"))\n",
    "\n",
    "# Check if multiplication is possible\n",
    "if m1 != n2:\n",
    "    print(\"Matrix multiplication not possible! (Columns of first != Rows of second)\")\n",
    "    exit()\n",
    "\n",
    "# Input first matrix\n",
    "print(\"\\nEnter elements of first matrix:\")\n",
    "matrix1 = []\n",
    "for i in range(n1):\n",
    "    row = list(map(int, input(f\"Row {i+1}: \").split()))\n",
    "    if len(row) != m1:\n",
    "        print(\"Error: Row must have\", m1, \"elements.\")\n",
    "        exit()\n",
    "    matrix1.append(row)\n",
    "\n",
    "# Input second matrix\n",
    "print(\"\\nEnter elements of second matrix:\")\n",
    "matrix2 = []\n",
    "for i in range(n2):\n",
    "    row = list(map(int, input(f\"Row {i+1}: \").split()))\n",
    "    if len(row) != m2:\n",
    "        print(\"Error: Row must have\", m2, \"elements.\")\n",
    "        exit()\n",
    "    matrix2.append(row)\n",
    "\n",
    "# Initialize result matrix with zeros\n",
    "result = [[0 for _ in range(m2)] for _ in range(n1)]\n",
    "\n",
    "# Matrix multiplication logic\n",
    "for i in range(n1):\n",
    "    for j in range(m2):\n",
    "        for k in range(m1):  # or n2, since m1 == n2\n",
    "            result[i][j] += matrix1[i][k] * matrix2[k][j]\n",
    "\n",
    "# Display results\n",
    "print(\"\\nFirst Matrix:\")\n",
    "for row in matrix1:\n",
    "    print(*row)\n",
    "\n",
    "print(\"\\nSecond Matrix:\")\n",
    "for row in matrix2:\n",
    "    print(*row)\n",
    "\n",
    "print(\"\\nResultant Matrix (Multiplication):\")\n",
    "for row in result:\n",
    "    print(*row)\n"
   ]
  }
 ],
 "metadata": {
  "kernelspec": {
   "display_name": "Python 3 (ipykernel)",
   "language": "python",
   "name": "python3"
  },
  "language_info": {
   "codemirror_mode": {
    "name": "ipython",
    "version": 3
   },
   "file_extension": ".py",
   "mimetype": "text/x-python",
   "name": "python",
   "nbconvert_exporter": "python",
   "pygments_lexer": "ipython3",
   "version": "3.13.5"
  }
 },
 "nbformat": 4,
 "nbformat_minor": 5
}
