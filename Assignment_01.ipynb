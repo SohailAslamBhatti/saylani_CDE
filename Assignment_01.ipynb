{
 "cells": [
  {
   "cell_type": "code",
   "execution_count": null,
   "id": "a0bd9253-d0e1-4501-bebd-6f063c12a5db",
   "metadata": {},
   "outputs": [],
   "source": [
    "#  Part -1 Python Basics (Variables)\n",
    "## 1. Print Your Name with your Father name and Date of birth using suitable escape sequence charactor"
   ]
  },
  {
   "cell_type": "code",
   "execution_count": 3,
   "id": "42e0ee29-71bd-4959-b361-85e1b45fe8e2",
   "metadata": {
    "panel-layout": {
     "height": 0,
     "visible": true,
     "width": 100
    }
   },
   "outputs": [
    {
     "name": "stdout",
     "output_type": "stream",
     "text": [
      "Name:\t\tSohail Aslam Bhatti\n",
      "Father's Name:\tMuhammad Aslam Bhatti\n",
      "Date of Birth:\t17-05-1992\n",
      "\n",
      "Name: Sohail Bhatti\n",
      "Father's Name: Muhammad Aslam Bhatti\n",
      "Date of Birth: 17-05-1992\n"
     ]
    }
   ],
   "source": [
    "print(\"Name:\\t\\tSohail Aslam Bhatti\")  \n",
    "print(\"Father's Name:\\tMuhammad Aslam Bhatti\") \n",
    "print(\"Date of Birth:\\t17-05-1992\\n\")\n",
    "print(\"Name: Sohail Bhatti\\nFather's Name: Muhammad Aslam Bhatti\\nDate of Birth: 17-05-1992\")"
   ]
  },
  {
   "cell_type": "code",
   "execution_count": 8,
   "id": "531427b7-775c-416a-943b-5eefe7c67ad8",
   "metadata": {},
   "outputs": [],
   "source": [
    "## 2. Write your small bio using variables and print it using print function\""
   ]
  },
  {
   "cell_type": "code",
   "execution_count": 1,
   "id": "5b447c90-b1a4-403a-8aeb-64b531418d20",
   "metadata": {},
   "outputs": [
    {
     "name": "stdout",
     "output_type": "stream",
     "text": [
      "My Name:\t Sohail Aslam Bhatti\n",
      "Father's Name:\t Muhammad Aslam Bhatti\n",
      "Date of Birth:\t 17-05-1992\n",
      "Hobby:\t\t Coding/ Cruising\n",
      "City:\t\t Karachi, Pakistan\n"
     ]
    }
   ],
   "source": [
    "name = \"Sohail Aslam Bhatti\"\n",
    "father_name = \"Muhammad Aslam Bhatti\"\n",
    "dob = \"17-05-1992\"\n",
    "hobby = \"Coding/ Cruising\"\n",
    "city = \"Karachi, Pakistan\"\n",
    "\n",
    "# Printing the bio\n",
    "print(\"My Name:\\t\", name)\n",
    "print(\"Father's Name:\\t\", father_name)\n",
    "print(\"Date of Birth:\\t\", dob)\n",
    "print(\"Hobby:\\t\\t\", hobby)\n",
    "print(\"City:\\t\\t\", city)"
   ]
  },
  {
   "cell_type": "code",
   "execution_count": 21,
   "id": "93bfa160-3e47-4509-a4fd-ffcce066abe1",
   "metadata": {},
   "outputs": [],
   "source": [
    "## 3. Write a program in which use all the operators we can use in Python"
   ]
  },
  {
   "cell_type": "code",
   "execution_count": 11,
   "id": "0789f67a-ae18-432b-ba08-e9396a3daaec",
   "metadata": {},
   "outputs": [
    {
     "name": "stdout",
     "output_type": "stream",
     "text": [
      "Arithmetic Operators:\n",
      "a + b = 13\n",
      "a - b = 7\n",
      "a * b = 30\n",
      "a / b = 3.3333333333333335\n",
      "a % b = 1\n",
      "a ** b = 1000\n",
      "a // b = 3\n",
      "\n",
      "Assignment Operators:\n",
      "x += 2 → 7\n",
      "x -= 1 → 6\n",
      "x *= 3 → 18\n",
      "x /= 2 → 9.0\n",
      "x %= 4 → 1.0\n",
      "x **= 2 → 1.0\n",
      "x //= 3 → 0.0\n",
      "\n",
      "Comparison Operators:\n",
      "a == b: False\n",
      "a != b: True\n",
      "a > b: True\n",
      "a < b: False\n",
      "a >= b: True\n",
      "a <= b: False\n",
      "\n",
      "Logical Operators:\n",
      "p and q: False\n",
      "p or q: True\n",
      "not p: False\n",
      "\n",
      "Membership Operators:\n",
      "'S' in name: True\n",
      "'x' not in name: True\n",
      "\n",
      "Identity Operators:\n",
      "x is z: True\n",
      "x is y: False\n",
      "x is not y: True\n"
     ]
    }
   ],
   "source": [
    "# 1. Arithmetic Operators\n",
    "a = 10\n",
    "b = 3\n",
    "print(\"Arithmetic Operators:\")\n",
    "print(\"a + b =\", a + b)   \n",
    "print(\"a - b =\", a - b)   \n",
    "print(\"a * b =\", a * b)   \n",
    "print(\"a / b =\", a / b) \n",
    "print(\"a % b =\", a % b)  \n",
    "print(\"a ** b =\", a ** b) \n",
    "print(\"a // b =\", a // b)\n",
    "print()\n",
    "\n",
    "# 2. Assignment Operators\n",
    "x = 5\n",
    "print(\"Assignment Operators:\")\n",
    "x += 2 \n",
    "print(\"x += 2 →\", x)\n",
    "x -= 1\n",
    "print(\"x -= 1 →\", x)\n",
    "x *= 3\n",
    "print(\"x *= 3 →\", x)\n",
    "x /= 2\n",
    "print(\"x /= 2 →\", x)\n",
    "x %= 4\n",
    "print(\"x %= 4 →\", x)\n",
    "x **= 2\n",
    "print(\"x **= 2 →\", x)\n",
    "x //= 3\n",
    "print(\"x //= 3 →\", x)\n",
    "print()\n",
    "\n",
    "# 3. Comparison (Relational) Operators\n",
    "print(\"Comparison Operators:\")\n",
    "print(\"a == b:\", a == b) \n",
    "print(\"a != b:\", a != b)  \n",
    "print(\"a > b:\", a > b)   \n",
    "print(\"a < b:\", a < b)   \n",
    "print(\"a >= b:\", a >= b) \n",
    "print(\"a <= b:\", a <= b) \n",
    "print()\n",
    "\n",
    "# 4. Logical Operators\n",
    "p = True\n",
    "q = False\n",
    "print(\"Logical Operators:\")\n",
    "print(\"p and q:\", p and q)  \n",
    "print(\"p or q:\", p or q)    \n",
    "print(\"not p:\", not p)      \n",
    "print()\n",
    "\n",
    "# 5. Membership Operators\n",
    "name = \"Sohail\"\n",
    "print(\"Membership Operators:\")\n",
    "print(\"'S' in name:\", 'S' in name)     \n",
    "print(\"'x' not in name:\", 'x' not in name)  \n",
    "print()\n",
    "\n",
    "# 6. Identity Operators\n",
    "x = [1, 2, 3]\n",
    "y = [1, 2, 3]\n",
    "z = x\n",
    "print(\"Identity Operators:\")\n",
    "print(\"x is z:\", x is z)        \n",
    "print(\"x is y:\", x is y)      \n",
    "print(\"x is not y:\", x is not y)"
   ]
  },
  {
   "cell_type": "code",
   "execution_count": 15,
   "id": "6ad1ec10-2848-4d25-8112-b549012d381d",
   "metadata": {},
   "outputs": [],
   "source": [
    "## 4. Completes the following steps of small task:\\n\",\n",
    "##      - Mention Marks of English , Islamiat and Maths out of 100 in 3 different variables\\n\",\n",
    "##      - Mention Variable of Total Marks and assign 300 to it\\n\",\n",
    "##      - Calculate Percentage"
   ]
  },
  {
   "cell_type": "code",
   "execution_count": 17,
   "id": "6764ee3a-afc0-4d9c-95dc-c9c85387c4c1",
   "metadata": {},
   "outputs": [
    {
     "name": "stdout",
     "output_type": "stream",
     "text": [
      "Marks in English: 85\n",
      "Marks in Islamiat: 90\n",
      "Marks in Maths: 95\n",
      "\n",
      "Total Marks: 300\n",
      "\n",
      "Obtained Marks: 270\n",
      "\n",
      "Percentage: 90.0 %\n"
     ]
    }
   ],
   "source": [
    "english = 85\n",
    "islamiat = 90\n",
    "maths = 95\n",
    "\n",
    "total_marks = 300\n",
    "\n",
    "obtained_marks = english + islamiat + maths\n",
    "\n",
    "percentage = (obtained_marks / total_marks) * 100\n",
    "\n",
    "print(\"Marks in English:\", english)\n",
    "print(\"Marks in Islamiat:\", islamiat)\n",
    "print(\"Marks in Maths:\", maths)\n",
    "print(\"\\nTotal Marks:\", total_marks)\n",
    "print(\"\\nObtained Marks:\", obtained_marks)\n",
    "print(\"\\nPercentage:\", percentage, \"%\")"
   ]
  },
  {
   "cell_type": "code",
   "execution_count": 18,
   "id": "12130be5-1777-4535-9341-6f20985efa65",
   "metadata": {},
   "outputs": [],
   "source": [
    "#  Part - 2: Python Basics (Conditional Statements)\n",
    "## 1) A company decided to give bonus of 5% to employee if his/her year of service is more than 5 years.\\n\",\n",
    "##    \"Ask user for their salary and year of service and print the net bonus amount."
   ]
  },
  {
   "cell_type": "code",
   "execution_count": 23,
   "id": "ce478c36-72d7-4e7a-a47b-f02f3eb9366e",
   "metadata": {},
   "outputs": [
    {
     "name": "stdin",
     "output_type": "stream",
     "text": [
      "Enter your salary:  50000\n",
      "Enter your years of service:  6\n"
     ]
    },
    {
     "name": "stdout",
     "output_type": "stream",
     "text": [
      "Congratulations! You are eligible for a bonus of: 2500.0\n",
      "Net Bonus Amount = 2500.0\n"
     ]
    }
   ],
   "source": [
    "salary = float(input(\"Enter your salary: \"))\n",
    "years_of_service = int(input(\"Enter your years of service: \"))\n",
    "\n",
    "if years_of_service > 5:\n",
    "    bonus = salary * 0.05\n",
    "    print(\"Congratulations! You are eligible for a bonus of:\", bonus)\n",
    "else:\n",
    "    bonus = 0\n",
    "    print(\"Sorry, no bonus as your service is less than or equal to 5 years.\")\n",
    "\n",
    "print(\"Net Bonus Amount =\", bonus)"
   ]
  },
  {
   "cell_type": "code",
   "execution_count": 24,
   "id": "c6760588-722a-42c2-bf44-cbacb114aa58",
   "metadata": {},
   "outputs": [],
   "source": [
    "## 2) Write a program to check whether a person is eligible for voting or not. (accept age from user) if age is greater than 17 eligible otherwise not eligible"
   ]
  },
  {
   "cell_type": "code",
   "execution_count": 25,
   "id": "560256dd-f753-4227-8e37-a8bad8b1d07d",
   "metadata": {},
   "outputs": [
    {
     "name": "stdin",
     "output_type": "stream",
     "text": [
      "Enter your age:  35\n"
     ]
    },
    {
     "name": "stdout",
     "output_type": "stream",
     "text": [
      "You are eligible for voting.\n"
     ]
    }
   ],
   "source": [
    "age = int(input(\"Enter your age: \"))\n",
    "\n",
    "if age > 17:\n",
    "    print(\"You are eligible for voting.\")\n",
    "else:\n",
    "    print(\"You are not eligible for voting.\")"
   ]
  },
  {
   "cell_type": "code",
   "execution_count": 26,
   "id": "2bf33469-ee77-4c42-a4f2-e10863c4f6f3",
   "metadata": {},
   "outputs": [],
   "source": [
    "## 3) Write a program to check whether a number entered by user is even or odd."
   ]
  },
  {
   "cell_type": "code",
   "execution_count": 27,
   "id": "8d923feb-fe48-41d7-9c03-905982a7d938",
   "metadata": {},
   "outputs": [
    {
     "name": "stdin",
     "output_type": "stream",
     "text": [
      "Enter a number:  122\n"
     ]
    },
    {
     "name": "stdout",
     "output_type": "stream",
     "text": [
      "122 is an Even number.\n"
     ]
    }
   ],
   "source": [
    "num = int(input(\"Enter a number: \"))\n",
    "\n",
    "if num % 2 == 0:\n",
    "    print(num, \"is an Even number.\")\n",
    "else:\n",
    "    print(num, \"is an Odd number.\")"
   ]
  },
  {
   "cell_type": "code",
   "execution_count": 28,
   "id": "f5faa0b4-47cb-44d5-8e66-e0beb8222ef4",
   "metadata": {},
   "outputs": [],
   "source": [
    "## 4) Write a program to check whether a number is divisible by 7 or not.\\n\", \"Show Answer\""
   ]
  },
  {
   "cell_type": "code",
   "execution_count": 29,
   "id": "c7f96be6-95b5-440e-b681-1da2cd4822b9",
   "metadata": {},
   "outputs": [
    {
     "name": "stdin",
     "output_type": "stream",
     "text": [
      "Enter a number:  147\n"
     ]
    },
    {
     "name": "stdout",
     "output_type": "stream",
     "text": [
      "147 is divisible by 7.\n"
     ]
    }
   ],
   "source": [
    "num = int(input(\"Enter a number: \"))\n",
    "\n",
    "if num % 7 == 0:\n",
    "    print(num, \"is divisible by 7.\")\n",
    "else:\n",
    "    print(num, \"is not divisible by 7.\")"
   ]
  },
  {
   "cell_type": "code",
   "execution_count": 30,
   "id": "77008bbd-6648-4a8b-8db3-af0c27978675",
   "metadata": {},
   "outputs": [],
   "source": [
    "## 5) Write a program to display \\n\",\n",
    "##    \"\\\"Hello\\\" if a number entered by user is a multiple of five , otherwise print \\\"Bye\\\".\""
   ]
  },
  {
   "cell_type": "code",
   "execution_count": 31,
   "id": "782c4a90-0ac9-4c54-93c1-5a5f9c95a7ea",
   "metadata": {},
   "outputs": [
    {
     "name": "stdin",
     "output_type": "stream",
     "text": [
      "Enter a number:  125\n"
     ]
    },
    {
     "name": "stdout",
     "output_type": "stream",
     "text": [
      "\n",
      "Hello\n"
     ]
    }
   ],
   "source": [
    "num = int(input(\"Enter a number: \"))\n",
    "\n",
    "if num % 5 == 0:\n",
    "    print(\"\\nHello\")\n",
    "else:\n",
    "    print(\"\\nBye\")"
   ]
  },
  {
   "cell_type": "code",
   "execution_count": 32,
   "id": "3ef164b1-6311-4b16-b073-c340ec2075f5",
   "metadata": {},
   "outputs": [],
   "source": [
    "## 7) Write a program to display the last digit of a number.\\n"
   ]
  },
  {
   "cell_type": "code",
   "execution_count": 33,
   "id": "8bd1a2f9-8901-40f0-993e-411d7e8820cb",
   "metadata": {},
   "outputs": [
    {
     "name": "stdin",
     "output_type": "stream",
     "text": [
      "Enter a number:  157\n"
     ]
    },
    {
     "name": "stdout",
     "output_type": "stream",
     "text": [
      "The last digit of 157 is: 7\n"
     ]
    }
   ],
   "source": [
    "num = int(input(\"Enter a number: \"))\n",
    "\n",
    "last_digit = num % 10\n",
    "\n",
    "print(\"The last digit of\", num, \"is:\", last_digit)"
   ]
  },
  {
   "cell_type": "code",
   "execution_count": 34,
   "id": "c5a2d7ee-3f13-4283-99fe-76e57d80c86b",
   "metadata": {},
   "outputs": [],
   "source": [
    "## 9) Take values of length and breadth of a rectangle from user and print if it is square or rectangle."
   ]
  },
  {
   "cell_type": "code",
   "execution_count": 35,
   "id": "7596281d-d493-4f76-84f0-1397884ee5f3",
   "metadata": {},
   "outputs": [
    {
     "name": "stdin",
     "output_type": "stream",
     "text": [
      "Enter the length:  6\n",
      "Enter the breadth:  8\n"
     ]
    },
    {
     "name": "stdout",
     "output_type": "stream",
     "text": [
      "It is a Rectangle.\n"
     ]
    }
   ],
   "source": [
    "length = int(input(\"Enter the length: \"))\n",
    "breadth = int(input(\"Enter the breadth: \"))\n",
    "\n",
    "if length == breadth:\n",
    "    print(\"It is a Square.\")\n",
    "else:\n",
    "    print(\"It is a Rectangle.\")"
   ]
  },
  {
   "cell_type": "code",
   "execution_count": 36,
   "id": "04fb300e-d41b-445b-908b-e95f117db3ad",
   "metadata": {},
   "outputs": [],
   "source": [
    "## 10) Take two int values from user and print greatest among them."
   ]
  },
  {
   "cell_type": "code",
   "execution_count": 37,
   "id": "1e8b9324-aa52-4c8e-a68c-bcd09b69aa97",
   "metadata": {},
   "outputs": [
    {
     "name": "stdin",
     "output_type": "stream",
     "text": [
      "Enter first number:  5\n",
      "Enter second number:  7\n"
     ]
    },
    {
     "name": "stdout",
     "output_type": "stream",
     "text": [
      "7 is greater.\n"
     ]
    }
   ],
   "source": [
    "num1 = int(input(\"Enter first number: \"))\n",
    "num2 = int(input(\"Enter second number: \"))\n",
    "\n",
    "if num1 > num2:\n",
    "    print(num1, \"is greater.\")\n",
    "elif num2 > num1:\n",
    "    print(num2, \"is greater.\")\n",
    "else:\n",
    "    print(\"Both numbers are equal.\")"
   ]
  },
  {
   "cell_type": "code",
   "execution_count": 38,
   "id": "6c4b5693-2afa-49b1-b482-817b3033fef1",
   "metadata": {},
   "outputs": [],
   "source": [
    "## 11) A shop will give discount of 10% if the cost of purchased quantity is more than 1000.\\n\",\n",
    "##    \"Ask user for quantity\\n\",\n",
    "##    \"Suppose, one unit will cost 100.\\n\",\n",
    "##    \"Judge and print total cost for user.\""
   ]
  },
  {
   "cell_type": "code",
   "execution_count": 39,
   "id": "0e8bd9da-4c3a-4ae0-9165-246d51c70ecc",
   "metadata": {},
   "outputs": [
    {
     "name": "stdin",
     "output_type": "stream",
     "text": [
      "Enter the quantity:  25\n"
     ]
    },
    {
     "name": "stdout",
     "output_type": "stream",
     "text": [
      "You got a 10% discount of: 250.0\n",
      "Total cost to pay: 2250.0\n"
     ]
    }
   ],
   "source": [
    "quantity = int(input(\"Enter the quantity: \"))\n",
    "\n",
    "unit_price = 100\n",
    "\n",
    "total_cost = quantity * unit_price\n",
    "\n",
    "if total_cost > 1000:\n",
    "    discount = total_cost * 0.10\n",
    "    total_cost = total_cost - discount\n",
    "    print(\"You got a 10% discount of:\", discount)\n",
    "\n",
    "print(\"Total cost to pay:\", total_cost)"
   ]
  },
  {
   "cell_type": "code",
   "execution_count": 40,
   "id": "ad933585-f400-481f-b949-5643d1884761",
   "metadata": {},
   "outputs": [],
   "source": [
    "## 12) A school has following rules for grading system: \",\n",
    "##  a. Below 25 - F,\n",
    "##  b. 25 to 45 - E,\n",
    "##  c. 45 to 50 - D,\n",
    "##  d. 50 to 60 - C,\n",
    "##  e. 60 to 80 - B,\n",
    "##  f. Above 80 - A,\n",
    "##  Ask user to enter marks and print the corresponding grade."
   ]
  },
  {
   "cell_type": "code",
   "execution_count": 41,
   "id": "0ffb3b4d-c914-4912-bae2-859c0e4346d1",
   "metadata": {},
   "outputs": [
    {
     "name": "stdin",
     "output_type": "stream",
     "text": [
      "Enter your marks:  75\n"
     ]
    },
    {
     "name": "stdout",
     "output_type": "stream",
     "text": [
      "Your Grade is: B\n"
     ]
    }
   ],
   "source": [
    "marks = int(input(\"Enter your marks: \"))\n",
    "\n",
    "if marks < 25:\n",
    "    grade = \"F\"\n",
    "elif marks <= 45:\n",
    "    grade = \"E\"\n",
    "elif marks <= 50:\n",
    "    grade = \"D\"\n",
    "elif marks <= 60:\n",
    "    grade = \"C\"\n",
    "elif marks <= 80:\n",
    "    grade = \"B\"\n",
    "else:\n",
    "    grade = \"A\"\n",
    "\n",
    "print(\"Your Grade is:\", grade)"
   ]
  },
  {
   "cell_type": "code",
   "execution_count": 43,
   "id": "6fe325c6-b677-400a-af28-2242dd7c1a28",
   "metadata": {},
   "outputs": [],
   "source": [
    "## 14)A student will not be allowed to sit in exam if his/her attendence is less than 75%.\", \n",
    "##    Take following input from user, \n",
    "##    - Number of classes held, \n",
    "##    - Number of classes attended, \n",
    "##    - And print percentage of class attended, \n",
    "##    - Is student is allowed to sit in exam or not."
   ]
  },
  {
   "cell_type": "code",
   "execution_count": 44,
   "id": "2b59385a-1f8b-441a-81f1-fa5f990aca86",
   "metadata": {},
   "outputs": [
    {
     "name": "stdin",
     "output_type": "stream",
     "text": [
      "Enter number of classes held:  75\n",
      "Enter number of classes attended:  67\n"
     ]
    },
    {
     "name": "stdout",
     "output_type": "stream",
     "text": [
      "Attendance Percentage: 89.33333333333333 %\n",
      "You are allowed to sit in the exam.\n"
     ]
    }
   ],
   "source": [
    "classes_held = int(input(\"Enter number of classes held: \"))\n",
    "classes_attended = int(input(\"Enter number of classes attended: \"))\n",
    "\n",
    "attendance = (classes_attended / classes_held) * 100\n",
    "\n",
    "print(\"Attendance Percentage:\", attendance, \"%\")\n",
    "\n",
    "\n",
    "if attendance >= 75:\n",
    "    print(\"You are allowed to sit in the exam.\")\n",
    "else:\n",
    "    print(\"You are NOT allowed to sit in the exam.\")"
   ]
  },
  {
   "cell_type": "code",
   "execution_count": 45,
   "id": "508c43c5-ddd2-418d-86aa-b7f19ffc46fd",
   "metadata": {},
   "outputs": [],
   "source": [
    "## 15) Modify the above question to allow student to sit if he/she has medical cause. \n",
    "##     Ask user if he/she has medical cause or not ( 'Y' or 'N' ) and print accordingly."
   ]
  },
  {
   "cell_type": "code",
   "execution_count": 46,
   "id": "790b5deb-aaaf-4d3c-9653-710080a5528d",
   "metadata": {},
   "outputs": [
    {
     "name": "stdin",
     "output_type": "stream",
     "text": [
      "Enter number of classes held:  75\n",
      "Enter number of classes attended:  67\n"
     ]
    },
    {
     "name": "stdout",
     "output_type": "stream",
     "text": [
      "Attendance Percentage: 89.33333333333333 %\n"
     ]
    },
    {
     "name": "stdin",
     "output_type": "stream",
     "text": [
      "Do you have a medical cause? (Y/N):  y\n"
     ]
    },
    {
     "name": "stdout",
     "output_type": "stream",
     "text": [
      "You are allowed to sit in the exam.\n"
     ]
    }
   ],
   "source": [
    "classes_held = int(input(\"Enter number of classes held: \"))\n",
    "classes_attended = int(input(\"Enter number of classes attended: \"))\n",
    "\n",
    "attendance = (classes_attended / classes_held) * 100\n",
    "\n",
    "print(\"Attendance Percentage:\", attendance, \"%\")\n",
    "\n",
    "medical = input(\"Do you have a medical cause? (Y/N): \")\n",
    "\n",
    "if attendance >= 75:\n",
    "    print(\"You are allowed to sit in the exam.\")\n",
    "elif medical.upper() == \"Y\":\n",
    "    print(\"You are allowed to sit in the exam due to medical cause.\")\n",
    "else:\n",
    "    print(\"You are NOT allowed to sit in the exam.\")"
   ]
  },
  {
   "cell_type": "code",
   "execution_count": 47,
   "id": "58f15309-d486-4e14-9346-182a16a90e40",
   "metadata": {},
   "outputs": [],
   "source": [
    "## 16) Write a program to check if a year is leap year or not, \n",
    "##     \"If a year is divisible by 4 then it is leap year but if the year is century year like 2000, 1900, 2100 then it must be divisible by 400."
   ]
  },
  {
   "cell_type": "code",
   "execution_count": 48,
   "id": "cba707f8-eead-4021-ba51-2a2ae8c42bb9",
   "metadata": {},
   "outputs": [
    {
     "name": "stdin",
     "output_type": "stream",
     "text": [
      "Enter a year:  2020\n"
     ]
    },
    {
     "name": "stdout",
     "output_type": "stream",
     "text": [
      "2020 is a Leap Year \n"
     ]
    }
   ],
   "source": [
    "year = int(input(\"Enter a year: \"))\n",
    "\n",
    "if (year % 400 == 0) or (year % 4 == 0 and year % 100 != 0):\n",
    "    print(year, \"is a Leap Year \")\n",
    "else:\n",
    "    print(year, \"is NOT a Leap Year \")"
   ]
  },
  {
   "cell_type": "code",
   "execution_count": 49,
   "id": "27324885-35bc-418d-ab4b-ce9042674bb1",
   "metadata": {},
   "outputs": [],
   "source": [
    "## 17) Ask user to enter age, gender ( M or F ), marital status ( Y or N ) and then using following rules print their place of service., \n",
    "##     - if employee is female, then she will work only in urban areas, \n",
    "##     - if employee is a male and age is in between 20 to 40 then he may work in anywhere, \n",
    "##     - if employee is male and age is in between 40 t0 60 then he will work in urban areas only, \n",
    "##       And any other input of age should print \\\"ERROR\\\""
   ]
  },
  {
   "cell_type": "code",
   "execution_count": 50,
   "id": "7ff0a923-0617-4963-a5c6-165344e113b3",
   "metadata": {},
   "outputs": [
    {
     "name": "stdin",
     "output_type": "stream",
     "text": [
      "Enter your age:  37\n",
      "Enter your gender (M/F):  m\n",
      "Are you married? (Y/N):  y\n"
     ]
    },
    {
     "name": "stdout",
     "output_type": "stream",
     "text": [
      "You may work anywhere (Urban or Rural).\n"
     ]
    }
   ],
   "source": [
    "age = int(input(\"Enter your age: \"))\n",
    "gender = input(\"Enter your gender (M/F): \").upper()\n",
    "marital_status = input(\"Are you married? (Y/N): \").upper()\n",
    "\n",
    "if gender == \"F\":\n",
    "    print(\"You will work only in Urban areas.\")\n",
    "elif gender == \"M\":\n",
    "    if 20 <= age <= 40:\n",
    "        print(\"You may work anywhere (Urban or Rural).\")\n",
    "    elif 40 < age <= 60:\n",
    "        print(\"You will work only in Urban areas.\")\n",
    "    else:\n",
    "        print(\"ERROR: Invalid age for service.\")\n",
    "else:\n",
    "    print(\"ERROR: Invalid gender input.\")"
   ]
  },
  {
   "cell_type": "code",
   "execution_count": 52,
   "id": "4bcbd675-3953-4375-8369-d8a2fa60ab04",
   "metadata": {},
   "outputs": [],
   "source": [
    "## 6) Write a program to calculate the electricity bill (accept number of unit from user) according to the following criteria : \n",
    "#     Unit Price, \n",
    "#     uptp 100 units no charge, \n",
    "#     Next 200 units Rs 5 per unit, \n",
    "#     After 200 units Rs 10 per unit, \n",
    "#     For example if input unit is 350 than total bill amount is Rs.3500, \n",
    "#     For example if input unit is 97 than total bill amount is Rs.0, \n",
    "#     For example if input unit is 150 than total bill amount is Rs.750\""
   ]
  },
  {
   "cell_type": "code",
   "execution_count": 53,
   "id": "e92f2d08-05c0-404d-93aa-e28a236e8b4e",
   "metadata": {},
   "outputs": [
    {
     "name": "stdin",
     "output_type": "stream",
     "text": [
      "Enter number of units consumed:  200\n"
     ]
    },
    {
     "name": "stdout",
     "output_type": "stream",
     "text": [
      "Total Electricity Bill = Rs. 500\n"
     ]
    }
   ],
   "source": [
    "units = int(input(\"Enter number of units consumed: \"))\n",
    "\n",
    "bill = 0\n",
    "\n",
    "if units <= 100:\n",
    "    bill = 0\n",
    "elif units <= 300:\n",
    "    bill = (units - 100) * 5\n",
    "else:\n",
    "    bill = (200 * 5) + ((units - 300) * 10)\n",
    "\n",
    "print(\"Total Electricity Bill = Rs.\", bill)"
   ]
  },
  {
   "cell_type": "code",
   "execution_count": 54,
   "id": "c82b93c2-182f-4ad6-9184-f2b285d8d717",
   "metadata": {},
   "outputs": [],
   "source": [
    "## 13) Take input of age of 3 people by user and determine oldest and youngest among them."
   ]
  },
  {
   "cell_type": "code",
   "execution_count": 55,
   "id": "f7a5ec98-1457-4743-98e8-a2ade15c499f",
   "metadata": {},
   "outputs": [
    {
     "name": "stdin",
     "output_type": "stream",
     "text": [
      "Enter age of first person:  24\n",
      "Enter age of second person:  34\n",
      "Enter age of third person:  17\n"
     ]
    },
    {
     "name": "stdout",
     "output_type": "stream",
     "text": [
      "Oldest age is: 34\n",
      "Youngest age is: 17\n"
     ]
    }
   ],
   "source": [
    "age1 = int(input(\"Enter age of first person: \"))\n",
    "age2 = int(input(\"Enter age of second person: \"))\n",
    "age3 = int(input(\"Enter age of third person: \"))\n",
    "\n",
    "oldest = max(age1, age2, age3)\n",
    "\n",
    "youngest = min(age1, age2, age3)\n",
    "\n",
    "print(\"Oldest age is:\", oldest)\n",
    "print(\"Youngest age is:\", youngest)"
   ]
  },
  {
   "cell_type": "code",
   "execution_count": null,
   "id": "b95f4762-2d08-4e7b-90cd-c4d9350d64f4",
   "metadata": {},
   "outputs": [],
   "source": []
  }
 ],
 "metadata": {
  "kernelspec": {
   "display_name": "Python 3 (ipykernel)",
   "language": "python",
   "name": "python3"
  },
  "language_info": {
   "codemirror_mode": {
    "name": "ipython",
    "version": 3
   },
   "file_extension": ".py",
   "mimetype": "text/x-python",
   "name": "python",
   "nbconvert_exporter": "python",
   "pygments_lexer": "ipython3",
   "version": "3.13.5"
  },
  "panel-cell-order": [
   "42e0ee29-71bd-4959-b361-85e1b45fe8e2"
  ]
 },
 "nbformat": 4,
 "nbformat_minor": 5
}
