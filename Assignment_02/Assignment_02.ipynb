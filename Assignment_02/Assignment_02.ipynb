{
 "cells": [
  {
   "cell_type": "markdown",
   "id": "8c00927e-2a95-40c8-a3c7-a890582f4688",
   "metadata": {},
   "source": [
    "<h1 style=\"color:blue;\">Assignment_02: Strings</h1>\n",
    "<h2 style=\"color:blue;\">Name: Sohail Aslam Bhatti</h2>\n",
    "<h2 style=\"color:blue;\">Roll No. 465885</h2>"
   ]
  },
  {
   "cell_type": "markdown",
   "id": "66a00a97-6bb8-4d44-a740-6eb50de9b57e",
   "metadata": {},
   "source": [
    "<h3 style=\"color:green;\">\n",
    "Q1: Write a program that accepts a string from user. Your program should count and display number of vowels in that string.</h3>"
   ]
  },
  {
   "cell_type": "code",
   "execution_count": 15,
   "id": "67ca22b9-b1c7-4264-abeb-eeee601cc64b",
   "metadata": {},
   "outputs": [
    {
     "name": "stdin",
     "output_type": "stream",
     "text": [
      "Enter a string:  have a nice day!\n"
     ]
    },
    {
     "name": "stdout",
     "output_type": "stream",
     "text": [
      "Number of vowels in the string: 6\n"
     ]
    }
   ],
   "source": [
    "txt = input(\"Enter a string: \")\n",
    "\n",
    "vowel = \"aeiouAEIOU\"\n",
    "count = 0\n",
    "\n",
    "for char in txt:\n",
    "    if char in vowel:\n",
    "        count += 1\n",
    "\n",
    "print(\"Number of vowels in the string:\", count)"
   ]
  },
  {
   "cell_type": "markdown",
   "id": "c038ff4e-58eb-4c43-9253-b9e5777381d8",
   "metadata": {},
   "source": [
    "<h3 style=\"color:green;\">Q2: Write a program that reads a string from keyboard and display:\n",
    " - The number of uppercase letters in the string\n",
    " - The number of lowercase letters in the string\n",
    " - The number of digits in the string\n",
    " - The number of whitespace characters in the string</h3>"
   ]
  },
  {
   "cell_type": "code",
   "execution_count": 18,
   "id": "9d02fb6b-1859-4d32-9c68-aa11d77299ca",
   "metadata": {},
   "outputs": [
    {
     "name": "stdin",
     "output_type": "stream",
     "text": [
      "Enter a string:  What a nice day it is? We have a plan to go for a picnic sharp at 8 a.m.\n"
     ]
    },
    {
     "name": "stdout",
     "output_type": "stream",
     "text": [
      "Number of uppercase letters: 2\n",
      "Number of lowercase letters: 48\n",
      "Number of digits: 1\n",
      "Number of whitespace characters: 18\n"
     ]
    }
   ],
   "source": [
    "txt = input(\"Enter a string: \")\n",
    "\n",
    "uppercase_count = 0\n",
    "lowercase_count = 0\n",
    "digits_count = 0\n",
    "whitespace_count = 0\n",
    "\n",
    "for char in txt:\n",
    "    if char.isupper():\n",
    "        uppercase_count += 1\n",
    "    elif char.islower():\n",
    "        lowercase_count += 1\n",
    "    elif char.isdigit():\n",
    "        digits_count += 1\n",
    "    elif char.isspace():\n",
    "        whitespace_count += 1\n",
    "\n",
    "print(\"Number of uppercase letters:\", uppercase_count)\n",
    "print(\"Number of lowercase letters:\", lowercase_count)\n",
    "print(\"Number of digits:\", digits_count)\n",
    "print(\"Number of whitespace characters:\", whitespace_count)"
   ]
  },
  {
   "cell_type": "markdown",
   "id": "693eed4a-0b5e-4176-9ba3-de1e52497d38",
   "metadata": {},
   "source": [
    "<h3 style=\"color:green;\">\n",
    "Q3: Write a Python program that accepts a string from user. Your program should create and display a new string where the first and last characters have been exchanged."
   ]
  },
  {
   "cell_type": "code",
   "execution_count": 19,
   "id": "43ca05ee-8a7b-405f-baed-69150434025e",
   "metadata": {},
   "outputs": [
    {
     "name": "stdin",
     "output_type": "stream",
     "text": [
      "Enter a string:  saylani\n"
     ]
    },
    {
     "name": "stdout",
     "output_type": "stream",
     "text": [
      "String after swapping first and last characters: iaylans\n"
     ]
    }
   ],
   "source": [
    "txt = input(\"Enter a string: \")\n",
    "\n",
    "if len(txt) < 2:\n",
    "    new_txt = txt\n",
    "else:\n",
    "    new_txt = txt[-1] + txt[1:-1] + txt[0]\n",
    "\n",
    "print(\"String after swapping first and last characters:\", new_txt)\n"
   ]
  },
  {
   "cell_type": "markdown",
   "id": "a4fefc92-9905-46fd-8453-80c6c41c8ce2",
   "metadata": {},
   "source": [
    "<h3 style=\"color:green;\">Q4: Write a Python program that accepts a string from user. Your program should create a new string in reverse of first string and display it."
   ]
  },
  {
   "cell_type": "code",
   "execution_count": 20,
   "id": "652745bf-f1fb-4f1f-9841-d9651aeebd64",
   "metadata": {},
   "outputs": [
    {
     "name": "stdin",
     "output_type": "stream",
     "text": [
      "Enter a string:  sohail aslam\n"
     ]
    },
    {
     "name": "stdout",
     "output_type": "stream",
     "text": [
      "Reversed string: malsa liahos\n"
     ]
    }
   ],
   "source": [
    "txt = input(\"Enter a string: \")\n",
    "\n",
    "reversed_txt = txt[::-1]\n",
    "\n",
    "print(\"Reversed string:\", reversed_txt)"
   ]
  },
  {
   "cell_type": "markdown",
   "id": "f38cb7b4-8524-4414-af47-ee6bc9efc033",
   "metadata": {},
   "source": [
    "<h3 style=\"color:green;\">Q5: Write a Python program that accepts a string from user. Your program should create a new string by shifting one position to left."
   ]
  },
  {
   "cell_type": "code",
   "execution_count": 22,
   "id": "4a7f9031-63f7-4c0f-8f6e-2eceb7944e06",
   "metadata": {},
   "outputs": [
    {
     "name": "stdin",
     "output_type": "stream",
     "text": [
      "Enter a string:  bhatti\n"
     ]
    },
    {
     "name": "stdout",
     "output_type": "stream",
     "text": [
      "String after shifting one position to left: hattib\n"
     ]
    }
   ],
   "source": [
    "txt = input(\"Enter a string: \")\n",
    "\n",
    "if len(txt) > 1:\n",
    "    shifted_txt = txt[1:] + txt[0]\n",
    "else:\n",
    "    shifted_txt = txt\n",
    "\n",
    "print(\"String after shifting one position to left:\", shifted_txt)"
   ]
  },
  {
   "cell_type": "markdown",
   "id": "6255549d-22d5-49aa-94be-e020795f888a",
   "metadata": {},
   "source": [
    "<h3 style=\"color:green;\">Q6: Write a program that asks the user to input his name and print its initials. Assuming that the user always types first name, middle name and last name and does not include any unnecessary spoces. eg. if the user enters Ajay Kumar Garg the program should display A.K.G. Note: Don't use split() method"
   ]
  },
  {
   "cell_type": "code",
   "execution_count": 25,
   "id": "516742d1-7094-4729-a19e-ede5b8913f48",
   "metadata": {},
   "outputs": [
    {
     "name": "stdin",
     "output_type": "stream",
     "text": [
      "Enter your full name (First Middle Last):  sohail aslam bhatti\n"
     ]
    },
    {
     "name": "stdout",
     "output_type": "stream",
     "text": [
      "Initials: S.A.B.\n"
     ]
    }
   ],
   "source": [
    "full_name = input(\"Enter your full name (First Middle Last): \")\n",
    "\n",
    "initials = full_name[0].upper() + \".\"\n",
    "\n",
    "for x in range(len(full_name)):\n",
    "    if full_name[x] == \" \" and x+1 < len(full_name):\n",
    "        initials += full_name[x+1].upper() + \".\"\n",
    "\n",
    "print(\"Initials:\", initials)"
   ]
  },
  {
   "cell_type": "markdown",
   "id": "67d5a03e-f14b-4080-83d7-8b1e3ee076f0",
   "metadata": {},
   "source": [
    "<h3 style=\"color:green;\">Q7: A palindrome is a string that reads the same backward as forward. For example, the words dad, madam and radar are all palindromes. Write a programs that determines whether the string is a palindrome. Note: do not use reverse() method."
   ]
  },
  {
   "cell_type": "code",
   "execution_count": 28,
   "id": "5251ec11-3fe8-4d31-8c14-c298e3ea92c3",
   "metadata": {},
   "outputs": [
    {
     "name": "stdin",
     "output_type": "stream",
     "text": [
      "Enter a string:  radar\n"
     ]
    },
    {
     "name": "stdout",
     "output_type": "stream",
     "text": [
      "Yes! It is a palindrome\n"
     ]
    }
   ],
   "source": [
    "txt = input(\"Enter a string: \")\n",
    "\n",
    "txt = txt.lower()\n",
    "\n",
    "is_palindrome = True\n",
    "\n",
    "for i in range(len(txt) // 2):\n",
    "    if txt[i] != txt[len(txt) - i - 1]:\n",
    "        is_palindrome = False\n",
    "        break\n",
    "\n",
    "if is_palindrome:\n",
    "    print(\"Yes! It is a palindrome\")\n",
    "else:\n",
    "    print(\"No! It is not a palindrome\")\n"
   ]
  },
  {
   "cell_type": "markdown",
   "id": "ae144e4a-7455-4d12-9b20-a007e706da92",
   "metadata": {},
   "source": [
    "<h3 style=\"color:green;\">\n",
    "Write a program that displays the following output:\n",
    "</h3>\n",
    "<ul>\n",
    "  <li>SHIFT</li>\n",
    "  <li>HIFTS</li>\n",
    "  <li>IFTSH</li>\n",
    "  <li>FTSHI</li>\n",
    "  <li>TSHIF</li>\n",
    "  <li>SHIFT</li>\n",
    "</ul>"
   ]
  },
  {
   "cell_type": "code",
   "execution_count": 37,
   "id": "fa09ee21-f08d-4e75-9bbd-9a43b98242ec",
   "metadata": {},
   "outputs": [
    {
     "name": "stdout",
     "output_type": "stream",
     "text": [
      "SHIFT\n",
      "HIFTS\n",
      "IFTSH\n",
      "FTSHI\n",
      "TSHIF\n",
      "SHIFT\n"
     ]
    }
   ],
   "source": [
    "strings = \"SHIFT\"\n",
    "\n",
    "for i in range((len(strings)+1)):\n",
    "    print(strings[i:] + strings[:i])"
   ]
  },
  {
   "cell_type": "markdown",
   "id": "81b10fa9-7e12-4f1e-b3e5-3842cea38de6",
   "metadata": {},
   "source": [
    "<h3 style=\"color:green;\"> Q9: Write a program in Python that accepts a string to setup a passwords. Your entered password must meet the following requirements.</h3>\n",
    "<ul>\n",
    "    <li>The password must be at least eight characters long.</li>\n",
    "    <li>It must contain at least one uppercase letter.</li>\n",
    "    <li>It must contain at least one lowercase letter.</li>\n",
    "    <li>It must contain at least one numeric digit.</li>\n",
    "</ul>"
   ]
  },
  {
   "cell_type": "code",
   "execution_count": 40,
   "id": "f48cf969-397e-42b4-87b3-855f9e7b6170",
   "metadata": {},
   "outputs": [
    {
     "name": "stdin",
     "output_type": "stream",
     "text": [
      "Enter your password:  Sohail@upss.38\n"
     ]
    },
    {
     "name": "stdout",
     "output_type": "stream",
     "text": [
      "Password is valid!\n"
     ]
    }
   ],
   "source": [
    "password = input(\"Enter your password: \")\n",
    "\n",
    "has_uppercase = False\n",
    "has_lowercase = False\n",
    "has_digit = False\n",
    "\n",
    "for char in password:\n",
    "    if char.isupper():\n",
    "        has_uppercase = True\n",
    "    elif char.islower():\n",
    "        has_lowercase = True\n",
    "    elif char.isdigit():\n",
    "        has_digit = True\n",
    "\n",
    "if len(password) >= 8 and has_uppercase and has_lowercase and has_digit:\n",
    "    print(\"Password is valid!\")\n",
    "else:\n",
    "    print(\"Password is invalid. Please follow the rules:\")\n",
    "    print(\"- At least 8 characters long\")\n",
    "    print(\"- At least one uppercase letter\")\n",
    "    print(\"- At least one lowercase letter\")\n",
    "    print(\"- At least one numeric digit\")"
   ]
  }
 ],
 "metadata": {
  "kernelspec": {
   "display_name": "Python 3 (ipykernel)",
   "language": "python",
   "name": "python3"
  },
  "language_info": {
   "codemirror_mode": {
    "name": "ipython",
    "version": 3
   },
   "file_extension": ".py",
   "mimetype": "text/x-python",
   "name": "python",
   "nbconvert_exporter": "python",
   "pygments_lexer": "ipython3",
   "version": "3.13.5"
  }
 },
 "nbformat": 4,
 "nbformat_minor": 5
}
