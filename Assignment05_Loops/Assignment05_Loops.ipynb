{
 "cells": [
  {
   "cell_type": "markdown",
   "id": "3d8192da-20f6-4f6d-af01-0f9e02b91a77",
   "metadata": {},
   "source": [
    "<h2 style=\"color:blue;\">Name: Sohail Aslam Bhatti</h2>\n",
    "<h2 style=\"color:blue;\">Roll No. 465885</h2>\n",
    "<h2 style=\"color:blue;\">Assignment_05: Loops</h2>"
   ]
  },
  {
   "cell_type": "markdown",
   "id": "540ee167-7f2b-43cc-a08d-ebf654df06e4",
   "metadata": {},
   "source": [
    "<h4 style=\"color:green;\">Q1. Write a Python program to print the number from 1 to 10 using a for loop."
   ]
  },
  {
   "cell_type": "code",
   "execution_count": 1,
   "id": "53b20424-8a62-4e24-82bc-6a9397f23cbb",
   "metadata": {},
   "outputs": [
    {
     "name": "stdout",
     "output_type": "stream",
     "text": [
      "1\n",
      "2\n",
      "3\n",
      "4\n",
      "5\n",
      "6\n",
      "7\n",
      "8\n",
      "9\n",
      "10\n"
     ]
    }
   ],
   "source": [
    "for i in range(1, 11):  \n",
    "    print(i)"
   ]
  },
  {
   "cell_type": "markdown",
   "id": "dacebb52-aa9d-4b35-a183-df1ad7cda63b",
   "metadata": {},
   "source": [
    "<h4 style=\"color:green;\">Q2. Write a Python program to print the number from 20 to 1 using a while loop."
   ]
  },
  {
   "cell_type": "code",
   "execution_count": 2,
   "id": "2d481b69-a4f7-436d-974d-f196317a26e5",
   "metadata": {},
   "outputs": [
    {
     "name": "stdout",
     "output_type": "stream",
     "text": [
      "20\n",
      "19\n",
      "18\n",
      "17\n",
      "16\n",
      "15\n",
      "14\n",
      "13\n",
      "12\n",
      "11\n",
      "10\n",
      "9\n",
      "8\n",
      "7\n",
      "6\n",
      "5\n",
      "4\n",
      "3\n",
      "2\n",
      "1\n"
     ]
    }
   ],
   "source": [
    "i = 20\n",
    "while i >= 1:\n",
    "    print(i)\n",
    "    i -= 1   "
   ]
  },
  {
   "cell_type": "markdown",
   "id": "470d0c0d-1633-4c40-810e-1309d8d5d00d",
   "metadata": {},
   "source": [
    "<h4 style=\"color:green;\">Q3. Write a program to print even numbers from 1 to 10."
   ]
  },
  {
   "cell_type": "code",
   "execution_count": 3,
   "id": "1c28979f-ce14-45c3-8f11-25c5264103d1",
   "metadata": {},
   "outputs": [
    {
     "name": "stdout",
     "output_type": "stream",
     "text": [
      "2\n",
      "4\n",
      "6\n",
      "8\n",
      "10\n"
     ]
    }
   ],
   "source": [
    "for i in range(1, 11):\n",
    "    if i % 2 == 0:  \n",
    "        print(i)"
   ]
  },
  {
   "cell_type": "markdown",
   "id": "de047e12-dcfd-45f7-8d9f-af6e857c4f72",
   "metadata": {},
   "source": [
    "<h4 style=\"color:green;\">Q4. Write a program that prompts the user to enter a number n and prints all the numbers from 1 to n."
   ]
  },
  {
   "cell_type": "code",
   "execution_count": 4,
   "id": "abaf99ca-4ea2-4dc7-bb8b-98dfd2ffcb02",
   "metadata": {},
   "outputs": [
    {
     "name": "stdin",
     "output_type": "stream",
     "text": [
      "Enter a number:  15\n"
     ]
    },
    {
     "name": "stdout",
     "output_type": "stream",
     "text": [
      "1\n",
      "2\n",
      "3\n",
      "4\n",
      "5\n",
      "6\n",
      "7\n",
      "8\n",
      "9\n",
      "10\n",
      "11\n",
      "12\n",
      "13\n",
      "14\n",
      "15\n"
     ]
    }
   ],
   "source": [
    "num = int(input(\"Enter a number: \"))\n",
    "\n",
    "for i in range(1, num + 1):\n",
    "    print(i)"
   ]
  },
  {
   "cell_type": "markdown",
   "id": "b1b47ddd-01f4-46fa-9482-d71d5011321a",
   "metadata": {},
   "source": [
    "<h4 style=\"color:green;\">Q5. Write a program that prompts the user to enter a number n, and then prints all the odd numbers between 1 and n."
   ]
  },
  {
   "cell_type": "code",
   "execution_count": 5,
   "id": "b8e42aa3-b5ba-4f02-9532-c9e8472822d6",
   "metadata": {},
   "outputs": [
    {
     "name": "stdin",
     "output_type": "stream",
     "text": [
      "Enter a number:  15\n"
     ]
    },
    {
     "name": "stdout",
     "output_type": "stream",
     "text": [
      "Odd numbers between 1 and 15:\n",
      "1\n",
      "3\n",
      "5\n",
      "7\n",
      "9\n",
      "11\n",
      "13\n",
      "15\n"
     ]
    }
   ],
   "source": [
    "num = int(input(\"Enter a number: \"))\n",
    "\n",
    "print(f\"Odd numbers between 1 and {num}:\")\n",
    "for i in range(1, num + 1):\n",
    "    if i % 2 != 0:   \n",
    "        print(i)"
   ]
  },
  {
   "cell_type": "markdown",
   "id": "6e841c16-f563-488b-8b54-a0aa4efbc41a",
   "metadata": {},
   "source": [
    "<h4 style=\"color:green;\">Q6. Write a program that prints 'Happy Birthday!' five times on screen."
   ]
  },
  {
   "cell_type": "code",
   "execution_count": null,
   "id": "833ac9de-83ee-410e-8a17-d780a0d68802",
   "metadata": {},
   "outputs": [],
   "source": []
  },
  {
   "cell_type": "markdown",
   "id": "b436714b-6583-4d2e-b62e-1e58a3671c96",
   "metadata": {},
   "source": [
    "<h4 style=\"color:green;\">Q7. Write a program that takes a number n as input from the user and generates the first n terms of the series formed by squaring the natural numbers.\n",
    "\n",
    ">   Sample output: <br>\n",
    ">   Enter a number: 6 <br>\n",
    ">   The first 6 terms of the series are:\n",
    ">   1 4 99 16 25 36"
   ]
  },
  {
   "cell_type": "code",
   "execution_count": 6,
   "id": "cc2315ba-f749-4dc8-84dd-d0a822443cdd",
   "metadata": {},
   "outputs": [
    {
     "name": "stdin",
     "output_type": "stream",
     "text": [
      "Enter a number:  15\n"
     ]
    },
    {
     "name": "stdout",
     "output_type": "stream",
     "text": [
      "The first 15 terms of the series are:\n",
      "1 4 9 16 25 36 49 64 81 100 121 144 169 196 225 "
     ]
    }
   ],
   "source": [
    "num = int(input(\"Enter a number: \"))\n",
    "\n",
    "print(f\"The first {num} terms of the series are:\")\n",
    "\n",
    "for i in range(1, num + 1):\n",
    "    print(i * i, end=\" \")\n"
   ]
  },
  {
   "cell_type": "markdown",
   "id": "bb82b5a2-63fd-44f4-a4f7-84a376029657",
   "metadata": {},
   "source": [
    "<h4 style=\"color:green;\">Q8. Write a program that prompts the user to input a number and prints its multiplication table."
   ]
  },
  {
   "cell_type": "code",
   "execution_count": 7,
   "id": "c9f5db97-7fd9-46df-8e1a-669bbe74df0a",
   "metadata": {},
   "outputs": [
    {
     "name": "stdin",
     "output_type": "stream",
     "text": [
      "Enter a number:  15\n"
     ]
    },
    {
     "name": "stdout",
     "output_type": "stream",
     "text": [
      "\n",
      "Multiplication Table of 15:\n",
      "15 x 1 = 15\n",
      "15 x 2 = 30\n",
      "15 x 3 = 45\n",
      "15 x 4 = 60\n",
      "15 x 5 = 75\n",
      "15 x 6 = 90\n",
      "15 x 7 = 105\n",
      "15 x 8 = 120\n",
      "15 x 9 = 135\n",
      "15 x 10 = 150\n"
     ]
    }
   ],
   "source": [
    "num = int(input(\"Enter a number: \"))\n",
    "\n",
    "print(f\"\\nMultiplication Table of {num}:\")\n",
    "for i in range(1, 11):\n",
    "    print(f\"{num} x {i} = {num * i}\")\n"
   ]
  },
  {
   "cell_type": "markdown",
   "id": "5826429a-cd2d-4290-b570-1fbe88a007ad",
   "metadata": {},
   "source": [
    "<h4 style=\"color:green;\">Q9. Write a Python program to print the first 8 terms of an arithmetic progression starting with 3 and having a common difference of 4. <br>\n",
    "\n",
    ">   The program should output the following sequence: <br>\n",
    ">   3 7 11 15 18 23 27 31 <br>  "
   ]
  },
  {
   "cell_type": "code",
   "execution_count": 8,
   "id": "7893a13a-6cf0-4f06-a02f-caa74a199eee",
   "metadata": {},
   "outputs": [
    {
     "name": "stdout",
     "output_type": "stream",
     "text": [
      "The first 8 terms of the AP are:\n",
      "3 7 11 15 19 23 27 31 "
     ]
    }
   ],
   "source": [
    "a = 3      #--> first term\n",
    "d = 4      #--> common difference\n",
    "n = 8      #--> number of terms\n",
    "\n",
    "print(\"The first 8 terms of the AP are:\")\n",
    "\n",
    "for i in range(n):\n",
    "    term = a + i * d                     #--> formula arithmetic progression\n",
    "    print(term, end=\" \")"
   ]
  },
  {
   "cell_type": "markdown",
   "id": "8ac5235b-67cd-451d-b87a-19736594be52",
   "metadata": {},
   "source": [
    "<h4 style=\"color:green;\">Q10. Write a Python program to print the first 6 terms of a geometric sequence starting with 2 and having a common ratio of 3. <br>\n",
    "The program should output the following sequence: <br>\n",
    "\n",
    ">   The program should output the following sequence: <br>\n",
    ">   2 6 18 54 162 486"
   ]
  },
  {
   "cell_type": "code",
   "execution_count": 9,
   "id": "3a5f0fa8-aa6b-401f-af8e-42e0638a7fd7",
   "metadata": {},
   "outputs": [
    {
     "name": "stdout",
     "output_type": "stream",
     "text": [
      "The first 6 terms of the GP are:\n",
      "2 6 18 54 162 486 "
     ]
    }
   ],
   "source": [
    "a = 2      #--> first term\n",
    "r = 3      #--> common ratio\n",
    "n = 6      #--> number of terms\n",
    "\n",
    "print(\"The first 6 terms of the GP are:\")\n",
    "\n",
    "for i in range(n):\n",
    "    term = a * (r ** i)                  #--> formula geometric sequence\n",
    "    print(term, end=\" \")"
   ]
  },
  {
   "cell_type": "markdown",
   "id": "e4542bea-8363-4415-bd7b-64e709096de0",
   "metadata": {},
   "source": [
    "<h4 style=\"color:green;\">Q11. Write a program that asks the user for a positive integer value. The program should calculate the sum of all the integers from 1 upto the number entered. For examples, if the user enters 20 the loop will find the sum of 1, 2, 3, 4, ... 20."
   ]
  },
  {
   "cell_type": "code",
   "execution_count": 10,
   "id": "b5267555-1adc-4506-b3a2-a379294a66de",
   "metadata": {},
   "outputs": [
    {
     "name": "stdin",
     "output_type": "stream",
     "text": [
      "Enter a positive integer:  15\n"
     ]
    },
    {
     "name": "stdout",
     "output_type": "stream",
     "text": [
      "The sum of numbers from 1 to 15 is: 120\n"
     ]
    }
   ],
   "source": [
    "\n",
    "num = int(input(\"Enter a positive integer: \"))\n",
    "\n",
    "if num > 0:\n",
    "    total = 0\n",
    "    for i in range(1, num + 1):\n",
    "        total += i\n",
    "    print(f\"The sum of numbers from 1 to {num} is: {total}\")\n",
    "else:\n",
    "    print(\"Please enter a positive integer.\")"
   ]
  },
  {
   "cell_type": "markdown",
   "id": "e064b178-ad87-45ac-a68d-0ca78f41bffd",
   "metadata": {},
   "source": [
    "<h4 style=\"color:green;\">Q12. Write a program that takes a positive integer N as input and calclulates the sum of the reciprocals of all numbers from 1 up to N. The program should display the final sum.\n",
    "    \n",
    ">   Output of the program should be like: <br>\n",
    ">   Enter a positive integer: 5 <br>\n",
    "    The sum of reciprocals from 1 to 5 is: 2.28"
   ]
  },
  {
   "cell_type": "code",
   "execution_count": 12,
   "id": "88cfd882-2bd5-4dc0-a637-dc095ae323a3",
   "metadata": {},
   "outputs": [
    {
     "name": "stdin",
     "output_type": "stream",
     "text": [
      "Enter a positive integer:  5\n"
     ]
    },
    {
     "name": "stdout",
     "output_type": "stream",
     "text": [
      "The sum of reciprocals from 1 to 5 is: 2.28\n"
     ]
    }
   ],
   "source": [
    "N = int(input(\"Enter a positive integer: \"))\n",
    "\n",
    "if N > 0:\n",
    "    total = 0\n",
    "    for i in range(1, N + 1):\n",
    "        total += 1 / i\n",
    "    print(f\"The sum of reciprocals from 1 to {N} is: {total:.2f}\")\n",
    "else:\n",
    "    print(\"Please enter a positive integer.\")"
   ]
  },
  {
   "cell_type": "markdown",
   "id": "47888f48-f122-4660-bc59-1a86945682de",
   "metadata": {},
   "source": [
    "<h4 style=\"color:green;\">Q13. Write a program that prompts the user to enter a number and repeat this process 5 times. The program should accumulate the numbers entered and then display the final running total. <br>\n",
    "\n",
    ">   Sample Output: <br>\n",
    "    Enter a number: 10 <br>\n",
    "    Enter a number: 15 <br>\n",
    "    Enter a number: 35 <br>\n",
    "    Enter a number: 40 <br>\n",
    "    Enter a number: 50 <br>\n",
    "    The final running total is: 150 \n"
   ]
  },
  {
   "cell_type": "code",
   "execution_count": 13,
   "id": "f0e617dd-d16a-43fc-ae1b-5a4bad58597f",
   "metadata": {},
   "outputs": [
    {
     "name": "stdin",
     "output_type": "stream",
     "text": [
      "Enter a number:  10\n",
      "Enter a number:  15\n",
      "Enter a number:  35\n",
      "Enter a number:  40\n",
      "Enter a number:  50\n"
     ]
    },
    {
     "name": "stdout",
     "output_type": "stream",
     "text": [
      "The final running total is: 150\n"
     ]
    }
   ],
   "source": [
    "total = 0\n",
    "\n",
    "for i in range(5):\n",
    "    num = int(input(\"Enter a number: \"))\n",
    "    total += num\n",
    "\n",
    "print(f\"The final running total is: {total}\")"
   ]
  },
  {
   "cell_type": "markdown",
   "id": "191bcef3-5086-4720-bc5a-4eb3896ce313",
   "metadata": {},
   "source": [
    "<h4 style=\"color:green;\">Q14.\tWrite a program that prompts the user to enter a positive integer and calculates its factorial. The factorial of a positive integer 'n' is denoted as 'n!' and is calculated by multiplying all the integers from 1 to 'n' together. For example, the factorial of 5 (denoted as 5!) is calculated as 1 x 2 x 3 x 4 x 5.\n",
    "    \n",
    "The program should display the factorial value if the input is a positive number, or display a message stating that the factorial does not exist for negative numbers.\n",
    "Additionally, for an input of zero, the program should output that the factorial of 0 is 1."
   ]
  },
  {
   "cell_type": "code",
   "execution_count": 14,
   "id": "f0cca5fc-dfdc-47d6-8cf7-d1f8809509aa",
   "metadata": {},
   "outputs": [
    {
     "name": "stdin",
     "output_type": "stream",
     "text": [
      "Enter a number:  5\n"
     ]
    },
    {
     "name": "stdout",
     "output_type": "stream",
     "text": [
      "The factorial of 5 is 120\n"
     ]
    }
   ],
   "source": [
    "num = int(input(\"Enter a number: \"))\n",
    "\n",
    "if num < 0:\n",
    "    print(\"Factorial does not exist for negative numbers.\")\n",
    "elif num == 0:\n",
    "    print(\"The factorial of 0 is 1\")\n",
    "else:\n",
    "    factorial = 1\n",
    "    for i in range(1, num + 1):\n",
    "        factorial *= i\n",
    "    print(f\"The factorial of {num} is {factorial}\")"
   ]
  },
  {
   "cell_type": "markdown",
   "id": "6b2f6692-8c68-4b73-9151-a33436704b6f",
   "metadata": {},
   "source": [
    "<h4 style=\"color:green;\">Q15. Write a Python program that prompts the user to enter a base number and an exponent, and then calculates the power of the base to the exponent. The program should not use the exponentiation operator (**) or the math.pow() function. The program should handle both positive and negative exponents."
   ]
  },
  {
   "cell_type": "code",
   "execution_count": 17,
   "id": "7f328435-7851-4f26-a722-6357a819b968",
   "metadata": {},
   "outputs": [
    {
     "name": "stdin",
     "output_type": "stream",
     "text": [
      "Enter the base number:  6\n",
      "Enter the exponent:  3\n"
     ]
    },
    {
     "name": "stdout",
     "output_type": "stream",
     "text": [
      "6.0 raised to the power 3 is: 216.0\n"
     ]
    }
   ],
   "source": [
    "base = float(input(\"Enter the base number: \"))\n",
    "exp = int(input(\"Enter the exponent: \"))\n",
    "\n",
    "result = 1\n",
    "\n",
    "if exp > 0:\n",
    "    for i in range(exp):\n",
    "        result *= base\n",
    "elif exp < 0:\n",
    "    for j in range(-exp):\n",
    "        result *= base\n",
    "    result = 1 / result\n",
    "\n",
    "print(f\"{base} raised to the power {exp} is: {result}\")"
   ]
  }
 ],
 "metadata": {
  "kernelspec": {
   "display_name": "Python 3 (ipykernel)",
   "language": "python",
   "name": "python3"
  },
  "language_info": {
   "codemirror_mode": {
    "name": "ipython",
    "version": 3
   },
   "file_extension": ".py",
   "mimetype": "text/x-python",
   "name": "python",
   "nbconvert_exporter": "python",
   "pygments_lexer": "ipython3",
   "version": "3.13.5"
  }
 },
 "nbformat": 4,
 "nbformat_minor": 5
}
